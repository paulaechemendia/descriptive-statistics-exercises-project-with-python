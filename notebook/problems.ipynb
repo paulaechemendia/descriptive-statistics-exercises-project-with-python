{
    "cells": [
        {
            "cell_type": "markdown",
            "id": "ac622319",
            "metadata": {},
            "source": [
                "# Descriptive statistics problems"
            ]
        },
        {
            "cell_type": "markdown",
            "id": "aa8993e4",
            "metadata": {},
            "source": [
                "### Exercise 1"
            ]
        },
        {
            "cell_type": "markdown",
            "id": "5e0ab0d5",
            "metadata": {},
            "source": [
                "We will use Numpy to obtain information to describe statistically.\n",
                "\n",
                "- Generate an array of 100 elements following a normal distribution.\n",
                "- Generate an array of 100 elements following a chi-square distribution with 3 degrees of freedom.\n",
                "- Calculate the main metrics and statistical measures that best describe the two vectors."
            ]
        },
        {
            "cell_type": "code",
            "execution_count": 5,
            "id": "34720ab6",
            "metadata": {},
            "outputs": [
                {
                    "name": "stdout",
                    "output_type": "stream",
                    "text": [
                        "The mean for the normal distribution is 0.04191778616082812\n",
                        "The median for the normal distribution is 0.1003648362154839\n",
                        "The mode for the normal distribution is 1.0559110890193892\n",
                        "The variance for the normal distribution is 0.8572540980360979\n",
                        "The standard deviation for the normal distribution is 0.925880174772145\n",
                        "The range for the normal distribution is 4.4798072326546325\n",
                        "The kurtosis for the normal distribution is -0.40237586075935505\n",
                        "The skewness for the normal distribution is -0.09349078217339041\n",
                        "\n",
                        "\n",
                        "The mean for the chi-square distribution is 3.5591258509679387\n",
                        "The median for the chi-square distribution is 2.8085925978950925\n",
                        "The mode for the chi-square distribution is 1.7568132916975805\n",
                        "The variance for the chi-square distribution is 9.011369776115425\n",
                        "The standard deviation for the chi-square distribution is 3.001894364583042\n",
                        "The range for the chi-square distribution is 14.206691043330263\n",
                        "The kurtosis for the chi-square distribution is 2.592907831088703\n",
                        "The skewness for the chi-square distribution is 1.6123489535767717\n"
                    ]
                }
            ],
            "source": [
                "import numpy as np\n",
                "import statistics as stats\n",
                "import matplotlib.pyplot as plt\n",
                "from scipy.stats import skew\n",
                "from scipy.stats import kurtosis\n",
                "\n",
                "first = np.random.normal(0, 1, 100)\n",
                "second = np.random.chisquare(3, 100)\n",
                "\n",
                "\n",
                "print('The mean for the normal distribution is ' +str(stats.mean(first)))\n",
                "print('The median for the normal distribution is ' +str(stats.median(first)))\n",
                "print('The mode for the normal distribution is ' +str(stats.mode(first)))\n",
                "print('The variance for the normal distribution is ' +str(stats.variance(first)))\n",
                "print('The standard deviation for the normal distribution is ' +str(stats.stdev(first)))\n",
                "print('The range for the normal distribution is ' +str(max(first)-min(first)))\n",
                "print('The kurtosis for the normal distribution is ' +str(kurtosis(first)))\n",
                "print('The skewness for the normal distribution is ' +str(skew(first)))\n",
                "\n",
                "print('')\n",
                "print('')\n",
                "print('The mean for the chi-square distribution is ' +str(stats.mean(second)))\n",
                "print('The median for the chi-square distribution is ' +str(stats.median(second)))\n",
                "print('The mode for the chi-square distribution is ' +str(stats.mode(second)))\n",
                "print('The variance for the chi-square distribution is ' +str(stats.variance(second)))\n",
                "print('The standard deviation for the chi-square distribution is ' +str(stats.stdev(second)))\n",
                "print('The range for the chi-square distribution is ' +str(max(second)-min(second)))\n",
                "print('The kurtosis for the chi-square distribution is ' +str(kurtosis(second)))\n",
                "print('The skewness for the chi-square distribution is ' +str(skew(second)))"
            ]
        },
        {
            "cell_type": "markdown",
            "id": "46c70c3d",
            "metadata": {},
            "source": [
                "### Exercise 2\n",
                "\n",
                "Write a Python program to calculate the standard deviation of the following data:\n",
                "\n",
                "```py\n",
                "data = [4, 2, 5, 8, 6]\n",
                "```"
            ]
        },
        {
            "cell_type": "code",
            "execution_count": 23,
            "id": "d590308e",
            "metadata": {},
            "outputs": [
                {
                    "name": "stdout",
                    "output_type": "stream",
                    "text": [
                        "The standard deviation obtained is 2.23606797749979\n",
                        "Using the function to check the result, we obtain 2.23606797749979\n"
                    ]
                }
            ],
            "source": [
                "import numpy as np\n",
                "import statistics as stats\n",
                "import matplotlib.pyplot as plt\n",
                "from scipy.stats import skew\n",
                "from scipy.stats import kurtosis\n",
                "\n",
                "data = [4, 2, 5, 8, 6]\n",
                "\n",
                "help = 0\n",
                "for i in data: \n",
                "    help += i\n",
                "mean = help / len(data)\n",
                "\n",
                "help2 = 0\n",
                "for i in data: \n",
                "    step1 = (i - mean)**2\n",
                "    help2 += step1\n",
                "\n",
                "\n",
                "stdevtion = np.sqrt(help2/(len(data)-1))\n",
                "print('The standard deviation obtained is ' +str(stdevtion))\n",
                "print('Using the function to check the result, we obtain ' +str(stats.stdev(data)))\n"
            ]
        }
    ],
    "metadata": {
        "interpreter": {
            "hash": "9248718ffe6ce6938b217e69dbcc175ea21f4c6b28a317e96c05334edae734bb"
        },
        "kernelspec": {
            "display_name": "Python 3.9.12 ('ML-BOOTCAMP')",
            "language": "python",
            "name": "python3"
        },
        "language_info": {
            "codemirror_mode": {
                "name": "ipython",
                "version": 3
            },
            "file_extension": ".py",
            "mimetype": "text/x-python",
            "name": "python",
            "nbconvert_exporter": "python",
            "pygments_lexer": "ipython3",
            "version": "3.11.4"
        }
    },
    "nbformat": 4,
    "nbformat_minor": 5
}
